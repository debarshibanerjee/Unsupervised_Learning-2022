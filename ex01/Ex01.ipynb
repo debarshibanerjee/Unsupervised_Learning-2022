{
 "cells": [
  {
   "cell_type": "markdown",
   "id": "6133c583",
   "metadata": {},
   "source": [
    "# Variable Ranking by Pearson/Linear Correlation Coefficient - LEAF Dataset"
   ]
  },
  {
   "cell_type": "code",
   "execution_count": 15,
   "id": "bbe58d95",
   "metadata": {},
   "outputs": [],
   "source": [
    "import math\n",
    "import numpy as np\n",
    "import pandas as pd\n",
    "import seaborn as sns\n",
    "import matplotlib.pyplot as plt\n",
    "from sklearn.preprocessing import StandardScaler"
   ]
  },
  {
   "cell_type": "code",
   "execution_count": 2,
   "id": "9434a832",
   "metadata": {},
   "outputs": [],
   "source": [
    "leaf_data = np.loadtxt('../Data_USL/leaf.csv',delimiter=',')"
   ]
  },
  {
   "cell_type": "code",
   "execution_count": 3,
   "id": "7045e097",
   "metadata": {},
   "outputs": [
    {
     "data": {
      "text/plain": [
       "(340, 16)"
      ]
     },
     "execution_count": 3,
     "metadata": {},
     "output_type": "execute_result"
    }
   ],
   "source": [
    "leaf_data.shape"
   ]
  },
  {
   "cell_type": "code",
   "execution_count": 4,
   "id": "b59c09be",
   "metadata": {},
   "outputs": [],
   "source": [
    "def linear_correlation_coeff(x,y):\n",
    "    xmean = np.mean(x)\n",
    "    ymean = np.mean(y)\n",
    "    stdvx = np.sum((x-xmean)**2)\n",
    "    stdvy = np.sum((y-ymean)**2)\n",
    "    r = np.dot(x-xmean,y-ymean)/np.sqrt((stdvx*stdvy))\n",
    "    return r"
   ]
  },
  {
   "cell_type": "code",
   "execution_count": 5,
   "id": "2931049d",
   "metadata": {},
   "outputs": [
    {
     "name": "stdout",
     "output_type": "stream",
     "text": [
      "i:  -0.015142016547326376\n",
      "i:  0.09141460302089634\n",
      "i:  0.2752101178490783\n",
      "i:  0.14127524729577043\n",
      "i:  0.11184290470599254\n",
      "i:  0.04667831920371106\n",
      "i:  -0.04976661317047229\n",
      "i:  -0.04002558235513152\n",
      "i:  -0.0170480505941396\n",
      "i:  0.10245321896478979\n",
      "i:  0.07624645270769874\n",
      "i:  0.0948852053530928\n",
      "i:  0.05852012269141438\n",
      "i:  0.18771684999019722\n",
      "i:  0.01769003965398185\n"
     ]
    }
   ],
   "source": [
    "loop_end = leaf_data.shape[1]\n",
    "r_lcc = []\n",
    "for i in range (1,loop_end):\n",
    "    r = linear_correlation_coeff(leaf_data[:,0],leaf_data[:,i])\n",
    "    r_lcc.append(r)\n",
    "    print('i: ', r_lcc[i-1])"
   ]
  },
  {
   "cell_type": "code",
   "execution_count": 6,
   "id": "76421d22",
   "metadata": {},
   "outputs": [
    {
     "name": "stdout",
     "output_type": "stream",
     "text": [
      "i:  -0.01514201654732638\n",
      "i:  0.09141460302089632\n",
      "i:  0.27521011784907823\n",
      "i:  0.1412752472957704\n",
      "i:  0.11184290470599252\n",
      "i:  0.046678319203711065\n",
      "i:  -0.04976661317047228\n",
      "i:  -0.04002558235513153\n",
      "i:  -0.017048050594139594\n",
      "i:  0.10245321896478976\n",
      "i:  0.07624645270769873\n",
      "i:  0.09488520535309278\n",
      "i:  0.05852012269141436\n",
      "i:  0.18771684999019722\n",
      "i:  0.017690039653981846\n"
     ]
    }
   ],
   "source": [
    "from scipy.stats import pearsonr\n",
    "loop_end = leaf_data.shape[1]\n",
    "r_p = []\n",
    "for i in range (1,loop_end):\n",
    "    r, pval = pearsonr(leaf_data[:,0],leaf_data[:,i])\n",
    "    r_p.append(r)\n",
    "    print('i: ', r_p[i-1])"
   ]
  },
  {
   "cell_type": "code",
   "execution_count": 7,
   "id": "7a4d1dc2",
   "metadata": {},
   "outputs": [
    {
     "name": "stdout",
     "output_type": "stream",
     "text": [
      "The correlation coefficients calculated by us and by Scipy are EQUAL.\n"
     ]
    }
   ],
   "source": [
    "count = 0\n",
    "for i in range (loop_end-1):\n",
    "    b = math.isclose(r_p[i], r_lcc[i], abs_tol=0.000001)\n",
    "    if b == True:\n",
    "        count += 1\n",
    "    \n",
    "if count == loop_end - 1:    \n",
    "    print(\"The correlation coefficients calculated by us and by Scipy are EQUAL.\")\n",
    "else:\n",
    "    print(\"The correlation coefficients vs Scipy are NOT EQUAL.\")"
   ]
  },
  {
   "cell_type": "code",
   "execution_count": 12,
   "id": "841a65de",
   "metadata": {},
   "outputs": [
    {
     "name": "stdout",
     "output_type": "stream",
     "text": [
      "For sake of completeness, we can also compute the correlation matrix with Numpy as follows.\n",
      "The matrix shape is:  (16, 16)\n",
      "\n",
      "\n",
      "The matrix is:\n",
      " [[ 1.                  -0.01514201654732637  0.09141460302089631\n",
      "   0.27521011784907823  0.14127524729577037  0.11184290470599252\n",
      "   0.04667831920371095 -0.04976661317047221 -0.04002558235513153\n",
      "  -0.01704805059413954  0.1024532189647896   0.0762464527076986\n",
      "   0.0948852053530928   0.05852012269141438  0.18771684999019725\n",
      "   0.0176900396539819 ]\n",
      " [-0.01514201654732637  0.9999999999999999  -0.07677164528704074\n",
      "  -0.02549034264831938 -0.02772203832821884 -0.07162331500178314\n",
      "  -0.02521871872505347  0.00412931063626591  0.06501620767914641\n",
      "   0.06232432212049924 -0.00972467242531314 -0.01266410681958376\n",
      "   0.00462822148520764  0.01063207126162024 -0.04040705316444876\n",
      "  -0.03354806139936364]\n",
      " [ 0.0914146030208963  -0.07677164528704074  1.\n",
      "   0.5510688069767617   0.553561341598504    0.3735355974537756\n",
      "   0.3863318587834139  -0.03608618694427429 -0.27436114168381576\n",
      "  -0.21363541156548302 -0.22630705211545174 -0.19473555645454071\n",
      "  -0.19106093204313257 -0.14955533617952058 -0.2503446126379184\n",
      "  -0.23968914793480894]\n",
      " [ 0.27521011784907823 -0.02549034264831939  0.5510688069767617\n",
      "   1.                   0.6783037467230787   0.00517312348443723\n",
      "   0.10714774644380752 -0.4710238852256443   0.09185058266623393\n",
      "   0.12244667772972685 -0.2821756229707654  -0.2975162268808079\n",
      "  -0.26327312504448075 -0.23376747168774967 -0.22936257099338123\n",
      "  -0.31288127522435544]\n",
      " [ 0.14127524729577037 -0.02772203832821884  0.5535613415985039\n",
      "   0.6783037467230787   1.                  -0.4114366697250402\n",
      "  -0.3788270316769294  -0.7930946937779642   0.4370710108703045\n",
      "   0.4078727099882957  -0.20451658870657652 -0.1885448301350482\n",
      "  -0.17853425962785732 -0.15109502721384277 -0.25068184459606674\n",
      "  -0.21090299300766782]\n",
      " [ 0.11184290470599252 -0.07162331500178312  0.3735355974537756\n",
      "   0.00517312348443723 -0.4114366697250402   1.\n",
      "   0.8625263841120435   0.7554801353306907  -0.8857214540774665\n",
      "  -0.8237567998189864   0.08486882576735481  0.08269633957952802\n",
      "   0.07756493354324377  0.0589050952008566   0.12626282412764647\n",
      "   0.05558944394031803]\n",
      " [ 0.04667831920371095 -0.02521871872505347  0.38633185878341386\n",
      "   0.1071477464438075  -0.3788270316769294   0.8625263841120436\n",
      "   1.                   0.6559095339312816  -0.7691244300295947\n",
      "  -0.6996300258677334   0.06315889530851071  0.05795743067575378\n",
      "   0.05071297386040384  0.03661894784606398  0.10668746802096163\n",
      "   0.05257192878952363]\n",
      " [-0.0497666131704722   0.00412931063626591 -0.03608618694427428\n",
      "  -0.4710238852256443  -0.7930946937779642   0.7554801353306907\n",
      "   0.6559095339312815   1.                  -0.7357763762462459\n",
      "  -0.6241608175782102   0.08062803998362052  0.07824959928285259\n",
      "   0.07459717386472232  0.06650325991021752  0.13314437328047846\n",
      "   0.06978285225078763]\n",
      " [-0.04002558235513153  0.06501620767914641 -0.27436114168381576\n",
      "   0.09185058266623393  0.43707101087030453 -0.8857214540774667\n",
      "  -0.7691244300295946  -0.7357763762462459   1.\n",
      "   0.9464546186695237  -0.09049623699475728 -0.08870343197336301\n",
      "  -0.05896995577235215 -0.02315118806286003 -0.13775831795277874\n",
      "  -0.11174919276564778]\n",
      " [-0.01704805059413954  0.06232432212049924 -0.21363541156548302\n",
      "   0.12244667772972685  0.40787270998829567 -0.8237567998189864\n",
      "  -0.6996300258677334  -0.6241608175782102   0.9464546186695237\n",
      "   1.                  -0.16907137060144667 -0.1778164721058223\n",
      "  -0.14901074099834233 -0.11924933901377639 -0.16924453337335274\n",
      "  -0.1810639674032182 ]\n",
      " [ 0.10245321896478961 -0.00972467242531314 -0.2263070521154517\n",
      "  -0.2821756229707655  -0.20451658870657652  0.0848688257673548\n",
      "   0.06315889530851071  0.0806280399836205  -0.09049623699475728\n",
      "  -0.16907137060144667  1.                   0.9547947079002912\n",
      "   0.9553967976568148   0.8216877205204484   0.80447844467602\n",
      "   0.935708313030545  ]\n",
      " [ 0.0762464527076986  -0.01266410681958376 -0.19473555645454071\n",
      "  -0.2975162268808079  -0.1885448301350482   0.08269633957952802\n",
      "   0.05795743067575378  0.0782495992828526  -0.08870343197336301\n",
      "  -0.1778164721058223   0.9547947079002912   1.\n",
      "   0.9795638680834213   0.917906381761594    0.6527142477013167\n",
      "   0.8601004966370203 ]\n",
      " [ 0.09488520535309279  0.00462822148520764 -0.19106093204313254\n",
      "  -0.2632731250444808  -0.17853425962785732  0.07756493354324376\n",
      "   0.05071297386040384  0.07459717386472234 -0.05896995577235215\n",
      "  -0.1490107409983423   0.955396797656815    0.9795638680834213\n",
      "   1.                   0.951043559994903    0.639154312379136\n",
      "   0.8204058695971062 ]\n",
      " [ 0.05852012269141438  0.01063207126162024 -0.14955533617952058\n",
      "  -0.23376747168774964 -0.15109502721384274  0.0589050952008566\n",
      "   0.03661894784606398  0.06650325991021752 -0.02315118806286003\n",
      "  -0.11924933901377639  0.8216877205204484   0.917906381761594\n",
      "   0.951043559994903    1.                   0.40927390687093385\n",
      "   0.6449783723761618 ]\n",
      " [ 0.18771684999019725 -0.04040705316444876 -0.2503446126379184\n",
      "  -0.22936257099338123 -0.25068184459606674  0.12626282412764647\n",
      "   0.10668746802096161  0.13314437328047846 -0.13775831795277876\n",
      "  -0.16924453337335277  0.8044784446760199   0.6527142477013167\n",
      "   0.6391543123791361   0.4092739068709339   1.\n",
      "   0.7978002284154866 ]\n",
      " [ 0.0176900396539819  -0.03354806139936364 -0.23968914793480894\n",
      "  -0.31288127522435544 -0.21090299300766782  0.05558944394031804\n",
      "   0.05257192878952363  0.06978285225078762 -0.11174919276564778\n",
      "  -0.18106396740321823  0.9357083130305451   0.8601004966370203\n",
      "   0.8204058695971063   0.6449783723761618   0.7978002284154866\n",
      "   1.                 ]]\n"
     ]
    }
   ],
   "source": [
    "np.set_printoptions(precision=17,suppress=True,edgeitems=16)\n",
    "corr_coeff_leaf_data = np.corrcoef(leaf_data.transpose())\n",
    "print(\"For sake of completeness, we can also compute the correlation\\\n",
    " matrix with Numpy as follows.\\nThe matrix shape is: \",\n",
    "      np.corrcoef(leaf_data.transpose()).shape)\n",
    "\n",
    "print(\"\\n\\nThe matrix is:\\n\",corr_coeff_leaf_data)\n",
    "\n",
    "# WHY TRANSPOSE?\n",
    "\n",
    "# From the docs: https://numpy.org/doc/stable/reference/generated/numpy.corrcoef.html\n",
    "# numpy.corrcoef(x, y=None,...)\n",
    "# Parameters: x: array_like\n",
    "# A 1-D or 2-D array containing multiple variables and observations.\n",
    "# Each row of x represents a variable.\n",
    "# Each column is a single observation of all those variables."
   ]
  },
  {
   "cell_type": "code",
   "execution_count": 9,
   "id": "4bbf256a",
   "metadata": {},
   "outputs": [
    {
     "data": {
      "text/plain": [
       "[0.2752101178490783,\n",
       " 0.18771684999019722,\n",
       " 0.14127524729577043,\n",
       " 0.11184290470599254,\n",
       " 0.10245321896478979,\n",
       " 0.0948852053530928,\n",
       " 0.09141460302089634,\n",
       " 0.07624645270769874,\n",
       " 0.05852012269141438,\n",
       " 0.04667831920371106,\n",
       " 0.01769003965398185,\n",
       " -0.015142016547326376,\n",
       " -0.0170480505941396,\n",
       " -0.04002558235513152,\n",
       " -0.04976661317047229]"
      ]
     },
     "execution_count": 9,
     "metadata": {},
     "output_type": "execute_result"
    }
   ],
   "source": [
    "r_ord_lcc = r_lcc.copy() # copy first, since sort is in-place\n",
    "r_ord_lcc.sort(reverse=True) # reverse, for descending order\n",
    "r_ord_lcc"
   ]
  },
  {
   "cell_type": "code",
   "execution_count": 10,
   "id": "eb18f5e3",
   "metadata": {},
   "outputs": [
    {
     "name": "stdout",
     "output_type": "stream",
     "text": [
      "The features of interest are, in descending order of relevance, COLUMNS: [ 3 14  4  5 10 12  2 11 13  6 15  1  9  8  7]\n"
     ]
    }
   ],
   "source": [
    "max_indices = np.argsort(r_lcc) # default is ascending max indices \n",
    "max_indices =  max_indices[::-1] # Descending\n",
    "print(\"The features of interest are, in descending order of relevance, COLUMNS:\",\n",
    "      max_indices+1)"
   ]
  },
  {
   "cell_type": "markdown",
   "id": "2c9a7bd6",
   "metadata": {},
   "source": [
    "# Variable Ranking by Mutual Information - Congressional Voting Records Dataset"
   ]
  },
  {
   "cell_type": "code",
   "execution_count": 27,
   "id": "327b8bc6",
   "metadata": {},
   "outputs": [],
   "source": [
    "cv_df = pd.read_csv('../Data_USL/house-votes-84.data',header=None)"
   ]
  },
  {
   "cell_type": "code",
   "execution_count": 102,
   "id": "10864e20",
   "metadata": {},
   "outputs": [
    {
     "data": {
      "text/html": [
       "<div>\n",
       "<style scoped>\n",
       "    .dataframe tbody tr th:only-of-type {\n",
       "        vertical-align: middle;\n",
       "    }\n",
       "\n",
       "    .dataframe tbody tr th {\n",
       "        vertical-align: top;\n",
       "    }\n",
       "\n",
       "    .dataframe thead th {\n",
       "        text-align: right;\n",
       "    }\n",
       "</style>\n",
       "<table border=\"1\" class=\"dataframe\">\n",
       "  <thead>\n",
       "    <tr style=\"text-align: right;\">\n",
       "      <th></th>\n",
       "      <th>0</th>\n",
       "      <th>1</th>\n",
       "      <th>2</th>\n",
       "      <th>3</th>\n",
       "      <th>4</th>\n",
       "      <th>5</th>\n",
       "      <th>6</th>\n",
       "      <th>7</th>\n",
       "      <th>8</th>\n",
       "      <th>9</th>\n",
       "      <th>10</th>\n",
       "      <th>11</th>\n",
       "      <th>12</th>\n",
       "      <th>13</th>\n",
       "      <th>14</th>\n",
       "      <th>15</th>\n",
       "      <th>16</th>\n",
       "    </tr>\n",
       "  </thead>\n",
       "  <tbody>\n",
       "    <tr>\n",
       "      <th>0</th>\n",
       "      <td>republican</td>\n",
       "      <td>n</td>\n",
       "      <td>y</td>\n",
       "      <td>n</td>\n",
       "      <td>y</td>\n",
       "      <td>y</td>\n",
       "      <td>y</td>\n",
       "      <td>n</td>\n",
       "      <td>n</td>\n",
       "      <td>n</td>\n",
       "      <td>y</td>\n",
       "      <td>?</td>\n",
       "      <td>y</td>\n",
       "      <td>y</td>\n",
       "      <td>y</td>\n",
       "      <td>n</td>\n",
       "      <td>y</td>\n",
       "    </tr>\n",
       "    <tr>\n",
       "      <th>1</th>\n",
       "      <td>republican</td>\n",
       "      <td>n</td>\n",
       "      <td>y</td>\n",
       "      <td>n</td>\n",
       "      <td>y</td>\n",
       "      <td>y</td>\n",
       "      <td>y</td>\n",
       "      <td>n</td>\n",
       "      <td>n</td>\n",
       "      <td>n</td>\n",
       "      <td>n</td>\n",
       "      <td>n</td>\n",
       "      <td>y</td>\n",
       "      <td>y</td>\n",
       "      <td>y</td>\n",
       "      <td>n</td>\n",
       "      <td>?</td>\n",
       "    </tr>\n",
       "    <tr>\n",
       "      <th>2</th>\n",
       "      <td>democrat</td>\n",
       "      <td>?</td>\n",
       "      <td>y</td>\n",
       "      <td>y</td>\n",
       "      <td>?</td>\n",
       "      <td>y</td>\n",
       "      <td>y</td>\n",
       "      <td>n</td>\n",
       "      <td>n</td>\n",
       "      <td>n</td>\n",
       "      <td>n</td>\n",
       "      <td>y</td>\n",
       "      <td>n</td>\n",
       "      <td>y</td>\n",
       "      <td>y</td>\n",
       "      <td>n</td>\n",
       "      <td>n</td>\n",
       "    </tr>\n",
       "    <tr>\n",
       "      <th>3</th>\n",
       "      <td>democrat</td>\n",
       "      <td>n</td>\n",
       "      <td>y</td>\n",
       "      <td>y</td>\n",
       "      <td>n</td>\n",
       "      <td>?</td>\n",
       "      <td>y</td>\n",
       "      <td>n</td>\n",
       "      <td>n</td>\n",
       "      <td>n</td>\n",
       "      <td>n</td>\n",
       "      <td>y</td>\n",
       "      <td>n</td>\n",
       "      <td>y</td>\n",
       "      <td>n</td>\n",
       "      <td>n</td>\n",
       "      <td>y</td>\n",
       "    </tr>\n",
       "    <tr>\n",
       "      <th>4</th>\n",
       "      <td>democrat</td>\n",
       "      <td>y</td>\n",
       "      <td>y</td>\n",
       "      <td>y</td>\n",
       "      <td>n</td>\n",
       "      <td>y</td>\n",
       "      <td>y</td>\n",
       "      <td>n</td>\n",
       "      <td>n</td>\n",
       "      <td>n</td>\n",
       "      <td>n</td>\n",
       "      <td>y</td>\n",
       "      <td>?</td>\n",
       "      <td>y</td>\n",
       "      <td>y</td>\n",
       "      <td>y</td>\n",
       "      <td>y</td>\n",
       "    </tr>\n",
       "    <tr>\n",
       "      <th>...</th>\n",
       "      <td>...</td>\n",
       "      <td>...</td>\n",
       "      <td>...</td>\n",
       "      <td>...</td>\n",
       "      <td>...</td>\n",
       "      <td>...</td>\n",
       "      <td>...</td>\n",
       "      <td>...</td>\n",
       "      <td>...</td>\n",
       "      <td>...</td>\n",
       "      <td>...</td>\n",
       "      <td>...</td>\n",
       "      <td>...</td>\n",
       "      <td>...</td>\n",
       "      <td>...</td>\n",
       "      <td>...</td>\n",
       "      <td>...</td>\n",
       "    </tr>\n",
       "    <tr>\n",
       "      <th>430</th>\n",
       "      <td>republican</td>\n",
       "      <td>n</td>\n",
       "      <td>n</td>\n",
       "      <td>y</td>\n",
       "      <td>y</td>\n",
       "      <td>y</td>\n",
       "      <td>y</td>\n",
       "      <td>n</td>\n",
       "      <td>n</td>\n",
       "      <td>y</td>\n",
       "      <td>y</td>\n",
       "      <td>n</td>\n",
       "      <td>y</td>\n",
       "      <td>y</td>\n",
       "      <td>y</td>\n",
       "      <td>n</td>\n",
       "      <td>y</td>\n",
       "    </tr>\n",
       "    <tr>\n",
       "      <th>431</th>\n",
       "      <td>democrat</td>\n",
       "      <td>n</td>\n",
       "      <td>n</td>\n",
       "      <td>y</td>\n",
       "      <td>n</td>\n",
       "      <td>n</td>\n",
       "      <td>n</td>\n",
       "      <td>y</td>\n",
       "      <td>y</td>\n",
       "      <td>y</td>\n",
       "      <td>y</td>\n",
       "      <td>n</td>\n",
       "      <td>n</td>\n",
       "      <td>n</td>\n",
       "      <td>n</td>\n",
       "      <td>n</td>\n",
       "      <td>y</td>\n",
       "    </tr>\n",
       "    <tr>\n",
       "      <th>432</th>\n",
       "      <td>republican</td>\n",
       "      <td>n</td>\n",
       "      <td>?</td>\n",
       "      <td>n</td>\n",
       "      <td>y</td>\n",
       "      <td>y</td>\n",
       "      <td>y</td>\n",
       "      <td>n</td>\n",
       "      <td>n</td>\n",
       "      <td>n</td>\n",
       "      <td>n</td>\n",
       "      <td>y</td>\n",
       "      <td>y</td>\n",
       "      <td>y</td>\n",
       "      <td>y</td>\n",
       "      <td>n</td>\n",
       "      <td>y</td>\n",
       "    </tr>\n",
       "    <tr>\n",
       "      <th>433</th>\n",
       "      <td>republican</td>\n",
       "      <td>n</td>\n",
       "      <td>n</td>\n",
       "      <td>n</td>\n",
       "      <td>y</td>\n",
       "      <td>y</td>\n",
       "      <td>y</td>\n",
       "      <td>?</td>\n",
       "      <td>?</td>\n",
       "      <td>?</td>\n",
       "      <td>?</td>\n",
       "      <td>n</td>\n",
       "      <td>y</td>\n",
       "      <td>y</td>\n",
       "      <td>y</td>\n",
       "      <td>n</td>\n",
       "      <td>y</td>\n",
       "    </tr>\n",
       "    <tr>\n",
       "      <th>434</th>\n",
       "      <td>republican</td>\n",
       "      <td>n</td>\n",
       "      <td>y</td>\n",
       "      <td>n</td>\n",
       "      <td>y</td>\n",
       "      <td>y</td>\n",
       "      <td>y</td>\n",
       "      <td>n</td>\n",
       "      <td>n</td>\n",
       "      <td>n</td>\n",
       "      <td>y</td>\n",
       "      <td>n</td>\n",
       "      <td>y</td>\n",
       "      <td>y</td>\n",
       "      <td>y</td>\n",
       "      <td>?</td>\n",
       "      <td>n</td>\n",
       "    </tr>\n",
       "  </tbody>\n",
       "</table>\n",
       "<p>435 rows × 17 columns</p>\n",
       "</div>"
      ],
      "text/plain": [
       "             0  1  2  3  4  5  6  7  8  9  10 11 12 13 14 15 16\n",
       "0    republican  n  y  n  y  y  y  n  n  n  y  ?  y  y  y  n  y\n",
       "1    republican  n  y  n  y  y  y  n  n  n  n  n  y  y  y  n  ?\n",
       "2      democrat  ?  y  y  ?  y  y  n  n  n  n  y  n  y  y  n  n\n",
       "3      democrat  n  y  y  n  ?  y  n  n  n  n  y  n  y  n  n  y\n",
       "4      democrat  y  y  y  n  y  y  n  n  n  n  y  ?  y  y  y  y\n",
       "..          ... .. .. .. .. .. .. .. .. .. .. .. .. .. .. .. ..\n",
       "430  republican  n  n  y  y  y  y  n  n  y  y  n  y  y  y  n  y\n",
       "431    democrat  n  n  y  n  n  n  y  y  y  y  n  n  n  n  n  y\n",
       "432  republican  n  ?  n  y  y  y  n  n  n  n  y  y  y  y  n  y\n",
       "433  republican  n  n  n  y  y  y  ?  ?  ?  ?  n  y  y  y  n  y\n",
       "434  republican  n  y  n  y  y  y  n  n  n  y  n  y  y  y  ?  n\n",
       "\n",
       "[435 rows x 17 columns]"
      ]
     },
     "execution_count": 102,
     "metadata": {},
     "output_type": "execute_result"
    }
   ],
   "source": [
    "cv_df"
   ]
  },
  {
   "cell_type": "code",
   "execution_count": 103,
   "id": "f70291f1",
   "metadata": {},
   "outputs": [
    {
     "data": {
      "text/plain": [
       "1      ?\n",
       "9      ?\n",
       "11     ?\n",
       "12     ?\n",
       "13     ?\n",
       "      ..\n",
       "389    ?\n",
       "390    ?\n",
       "393    ?\n",
       "400    ?\n",
       "425    ?\n",
       "Name: 16, Length: 104, dtype: object"
      ]
     },
     "execution_count": 103,
     "metadata": {},
     "output_type": "execute_result"
    }
   ],
   "source": [
    "cv_df[cv_df[16]=='?'][16]"
   ]
  },
  {
   "cell_type": "code",
   "execution_count": 99,
   "id": "9b6db890",
   "metadata": {},
   "outputs": [
    {
     "name": "stdout",
     "output_type": "stream",
     "text": [
      "Number of missing values per column:\n",
      "Column \t\t Number of Missing Values\n",
      "0 \t\t\t 0\n",
      "1 \t\t\t 12\n",
      "2 \t\t\t 48\n",
      "3 \t\t\t 11\n",
      "4 \t\t\t 11\n",
      "5 \t\t\t 15\n",
      "6 \t\t\t 11\n",
      "7 \t\t\t 14\n",
      "8 \t\t\t 15\n",
      "9 \t\t\t 22\n",
      "10 \t\t\t 7\n",
      "11 \t\t\t 21\n",
      "12 \t\t\t 31\n",
      "13 \t\t\t 25\n",
      "14 \t\t\t 17\n",
      "15 \t\t\t 28\n",
      "16 \t\t\t 104\n"
     ]
    }
   ],
   "source": [
    "print(\"Number of missing values per column:\")\n",
    "print(\"Column \\t\\t Number of Missing Values\")\n",
    "for i in range (cv_df.shape[1]):\n",
    "    print(i,\"\\t\\t\\t\", cv_df[cv_df[i] == '?'][i].size)"
   ]
  },
  {
   "cell_type": "code",
   "execution_count": 41,
   "id": "28ab7956",
   "metadata": {},
   "outputs": [],
   "source": [
    "cv_df_mod = cv_df.replace('?',np.nan)"
   ]
  },
  {
   "cell_type": "code",
   "execution_count": 61,
   "id": "9ca7c09c",
   "metadata": {},
   "outputs": [
    {
     "data": {
      "text/plain": [
       "0      y\n",
       "1      y\n",
       "2      y\n",
       "3      y\n",
       "4      y\n",
       "      ..\n",
       "429    n\n",
       "430    n\n",
       "431    n\n",
       "433    n\n",
       "434    y\n",
       "Name: 2, Length: 387, dtype: object"
      ]
     },
     "execution_count": 61,
     "metadata": {},
     "output_type": "execute_result"
    }
   ],
   "source": [
    "tmp = cv_df_mod[2].dropna()\n",
    "tmp"
   ]
  },
  {
   "cell_type": "code",
   "execution_count": 64,
   "id": "38ebffde",
   "metadata": {},
   "outputs": [],
   "source": [
    "n_cnt = tmp[tmp == 'n'].size\n",
    "y_cnt = tmp.size - n_cnt\n",
    "total = y_cnt + n_cnt\n",
    "orig_size = tmp.size"
   ]
  },
  {
   "cell_type": "code",
   "execution_count": 65,
   "id": "f5c6084f",
   "metadata": {},
   "outputs": [
    {
     "name": "stdout",
     "output_type": "stream",
     "text": [
      "192 195 387 387\n"
     ]
    }
   ],
   "source": [
    "print(n_cnt,y_cnt,total,orig_size)"
   ]
  },
  {
   "cell_type": "code",
   "execution_count": null,
   "id": "ad02acfd",
   "metadata": {},
   "outputs": [],
   "source": []
  }
 ],
 "metadata": {
  "kernelspec": {
   "display_name": "anaconda3",
   "language": "python",
   "name": "anaconda3"
  },
  "language_info": {
   "codemirror_mode": {
    "name": "ipython",
    "version": 3
   },
   "file_extension": ".py",
   "mimetype": "text/x-python",
   "name": "python",
   "nbconvert_exporter": "python",
   "pygments_lexer": "ipython3",
   "version": "3.9.7"
  }
 },
 "nbformat": 4,
 "nbformat_minor": 5
}
