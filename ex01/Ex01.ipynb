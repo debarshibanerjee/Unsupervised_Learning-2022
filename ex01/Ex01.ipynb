{
 "cells": [
  {
   "cell_type": "markdown",
   "id": "e1bc65c4",
   "metadata": {},
   "source": [
    "# Pearson/Linear Correlation Coefficient"
   ]
  },
  {
   "cell_type": "code",
   "execution_count": 1,
   "id": "d78f0574",
   "metadata": {},
   "outputs": [],
   "source": [
    "import math\n",
    "import numpy as np\n",
    "import seaborn as sns\n",
    "import matplotlib.pyplot as plt\n",
    "from sklearn.preprocessing import StandardScaler"
   ]
  },
  {
   "cell_type": "code",
   "execution_count": 2,
   "id": "087db104",
   "metadata": {},
   "outputs": [],
   "source": [
    "leaf_data = np.loadtxt('../Data_USL/leaf.csv',delimiter=',')"
   ]
  },
  {
   "cell_type": "code",
   "execution_count": 3,
   "id": "8061f7b1",
   "metadata": {},
   "outputs": [
    {
     "data": {
      "text/plain": [
       "(340, 16)"
      ]
     },
     "execution_count": 3,
     "metadata": {},
     "output_type": "execute_result"
    }
   ],
   "source": [
    "leaf_data.shape"
   ]
  },
  {
   "cell_type": "code",
   "execution_count": 4,
   "id": "2daf8d3f",
   "metadata": {},
   "outputs": [],
   "source": [
    "def linear_correlation_coeff(x,y):\n",
    "    xmean = np.mean(x)\n",
    "    ymean = np.mean(y)\n",
    "    stdvx = np.sum((x-xmean)**2)\n",
    "    stdvy = np.sum((y-ymean)**2)\n",
    "    r = np.dot(x-xmean,y-ymean)/np.sqrt((stdvx*stdvy))\n",
    "    return r"
   ]
  },
  {
   "cell_type": "code",
   "execution_count": 5,
   "id": "c49f1e20",
   "metadata": {},
   "outputs": [
    {
     "name": "stdout",
     "output_type": "stream",
     "text": [
      "i:  -0.015142016547326376\n",
      "i:  0.09141460302089634\n",
      "i:  0.2752101178490783\n",
      "i:  0.14127524729577043\n",
      "i:  0.11184290470599254\n",
      "i:  0.04667831920371106\n",
      "i:  -0.04976661317047229\n",
      "i:  -0.04002558235513152\n",
      "i:  -0.0170480505941396\n",
      "i:  0.10245321896478979\n",
      "i:  0.07624645270769874\n",
      "i:  0.0948852053530928\n",
      "i:  0.05852012269141438\n",
      "i:  0.18771684999019722\n",
      "i:  0.01769003965398185\n"
     ]
    }
   ],
   "source": [
    "loop_end = leaf_data.shape[1]\n",
    "r_lcc = []\n",
    "for i in range (1,loop_end):\n",
    "    r = linear_correlation_coeff(leaf_data[:,0],leaf_data[:,i])\n",
    "    r_lcc.append(r)\n",
    "    print('i: ', r_lcc[i-1])"
   ]
  },
  {
   "cell_type": "code",
   "execution_count": 6,
   "id": "dddd2f50",
   "metadata": {},
   "outputs": [
    {
     "name": "stdout",
     "output_type": "stream",
     "text": [
      "i:  -0.01514201654732638\n",
      "i:  0.09141460302089632\n",
      "i:  0.27521011784907823\n",
      "i:  0.1412752472957704\n",
      "i:  0.11184290470599252\n",
      "i:  0.046678319203711065\n",
      "i:  -0.04976661317047228\n",
      "i:  -0.04002558235513153\n",
      "i:  -0.017048050594139594\n",
      "i:  0.10245321896478976\n",
      "i:  0.07624645270769873\n",
      "i:  0.09488520535309278\n",
      "i:  0.05852012269141436\n",
      "i:  0.18771684999019722\n",
      "i:  0.017690039653981846\n"
     ]
    }
   ],
   "source": [
    "from scipy.stats import pearsonr\n",
    "loop_end = leaf_data.shape[1]\n",
    "r_p = []\n",
    "for i in range (1,loop_end):\n",
    "    r, pval = pearsonr(leaf_data[:,0],leaf_data[:,i])\n",
    "    r_p.append(r)\n",
    "    print('i: ', r_p[i-1])"
   ]
  },
  {
   "cell_type": "code",
   "execution_count": 7,
   "id": "6b4ab03a",
   "metadata": {},
   "outputs": [
    {
     "name": "stdout",
     "output_type": "stream",
     "text": [
      "The correlation coefficients calculated by us and by Scipy are EQUAL.\n"
     ]
    }
   ],
   "source": [
    "count = 0\n",
    "for i in range (loop_end-1):\n",
    "    b = math.isclose(r_p[i], r_lcc[i], abs_tol=0.000001)\n",
    "    if b == True:\n",
    "        count += 1\n",
    "    \n",
    "if count == loop_end - 1:    \n",
    "    print(\"The correlation coefficients calculated by us and by Scipy are EQUAL.\")\n",
    "else:\n",
    "    print(\"The correlation coefficients vs Scipy are NOT EQUAL.\")"
   ]
  },
  {
   "cell_type": "code",
   "execution_count": 8,
   "id": "d5b68472",
   "metadata": {},
   "outputs": [
    {
     "name": "stdout",
     "output_type": "stream",
     "text": [
      "For sake of completeness, we can also compute the correlation matrix with Numpy as follows.\n",
      "The matrix shape is:  (16, 16)\n",
      "\n",
      "\n",
      "The matrix is:\n",
      " [[ 1.    -0.015  0.091  0.275  0.141  0.112  0.047 -0.05  -0.04  -0.017\n",
      "   0.102  0.076  0.095  0.059  0.188  0.018]\n",
      " [-0.015  1.    -0.077 -0.025 -0.028 -0.072 -0.025  0.004  0.065  0.062\n",
      "  -0.01  -0.013  0.005  0.011 -0.04  -0.034]\n",
      " [ 0.091 -0.077  1.     0.551  0.554  0.374  0.386 -0.036 -0.274 -0.214\n",
      "  -0.226 -0.195 -0.191 -0.15  -0.25  -0.24 ]\n",
      " [ 0.275 -0.025  0.551  1.     0.678  0.005  0.107 -0.471  0.092  0.122\n",
      "  -0.282 -0.298 -0.263 -0.234 -0.229 -0.313]\n",
      " [ 0.141 -0.028  0.554  0.678  1.    -0.411 -0.379 -0.793  0.437  0.408\n",
      "  -0.205 -0.189 -0.179 -0.151 -0.251 -0.211]\n",
      " [ 0.112 -0.072  0.374  0.005 -0.411  1.     0.863  0.755 -0.886 -0.824\n",
      "   0.085  0.083  0.078  0.059  0.126  0.056]\n",
      " [ 0.047 -0.025  0.386  0.107 -0.379  0.863  1.     0.656 -0.769 -0.7\n",
      "   0.063  0.058  0.051  0.037  0.107  0.053]\n",
      " [-0.05   0.004 -0.036 -0.471 -0.793  0.755  0.656  1.    -0.736 -0.624\n",
      "   0.081  0.078  0.075  0.067  0.133  0.07 ]\n",
      " [-0.04   0.065 -0.274  0.092  0.437 -0.886 -0.769 -0.736  1.     0.946\n",
      "  -0.09  -0.089 -0.059 -0.023 -0.138 -0.112]\n",
      " [-0.017  0.062 -0.214  0.122  0.408 -0.824 -0.7   -0.624  0.946  1.\n",
      "  -0.169 -0.178 -0.149 -0.119 -0.169 -0.181]\n",
      " [ 0.102 -0.01  -0.226 -0.282 -0.205  0.085  0.063  0.081 -0.09  -0.169\n",
      "   1.     0.955  0.955  0.822  0.804  0.936]\n",
      " [ 0.076 -0.013 -0.195 -0.298 -0.189  0.083  0.058  0.078 -0.089 -0.178\n",
      "   0.955  1.     0.98   0.918  0.653  0.86 ]\n",
      " [ 0.095  0.005 -0.191 -0.263 -0.179  0.078  0.051  0.075 -0.059 -0.149\n",
      "   0.955  0.98   1.     0.951  0.639  0.82 ]\n",
      " [ 0.059  0.011 -0.15  -0.234 -0.151  0.059  0.037  0.067 -0.023 -0.119\n",
      "   0.822  0.918  0.951  1.     0.409  0.645]\n",
      " [ 0.188 -0.04  -0.25  -0.229 -0.251  0.126  0.107  0.133 -0.138 -0.169\n",
      "   0.804  0.653  0.639  0.409  1.     0.798]\n",
      " [ 0.018 -0.034 -0.24  -0.313 -0.211  0.056  0.053  0.07  -0.112 -0.181\n",
      "   0.936  0.86   0.82   0.645  0.798  1.   ]]\n"
     ]
    }
   ],
   "source": [
    "np.set_printoptions(precision=3,suppress=True,edgeitems=16)\n",
    "corr_coeff_leaf_data = np.corrcoef(leaf_data.transpose())\n",
    "print(\"For sake of completeness, we can also compute the correlation\\\n",
    " matrix with Numpy as follows.\\nThe matrix shape is: \",\n",
    "      np.corrcoef(leaf_data.transpose()).shape)\n",
    "\n",
    "print(\"\\n\\nThe matrix is:\\n\",corr_coeff_leaf_data)\n",
    "\n",
    "# WHY TRANSPOSE?\n",
    "\n",
    "# From the docs: https://numpy.org/doc/stable/reference/generated/numpy.corrcoef.html\n",
    "# numpy.corrcoef(x, y=None,...)\n",
    "# Parameters: x: array_like\n",
    "# A 1-D or 2-D array containing multiple variables and observations.\n",
    "# Each row of x represents a variable.\n",
    "# Each column is a single observation of all those variables."
   ]
  },
  {
   "cell_type": "code",
   "execution_count": 9,
   "id": "b40a7c83",
   "metadata": {},
   "outputs": [
    {
     "data": {
      "text/plain": [
       "[0.2752101178490783,\n",
       " 0.18771684999019722,\n",
       " 0.14127524729577043,\n",
       " 0.11184290470599254,\n",
       " 0.10245321896478979,\n",
       " 0.0948852053530928,\n",
       " 0.09141460302089634,\n",
       " 0.07624645270769874,\n",
       " 0.05852012269141438,\n",
       " 0.04667831920371106,\n",
       " 0.01769003965398185,\n",
       " -0.015142016547326376,\n",
       " -0.0170480505941396,\n",
       " -0.04002558235513152,\n",
       " -0.04976661317047229]"
      ]
     },
     "execution_count": 9,
     "metadata": {},
     "output_type": "execute_result"
    }
   ],
   "source": [
    "r_ord_lcc = r_lcc.copy() # copy first, since sort is in-place\n",
    "r_ord_lcc.sort(reverse=True) # reverse, for descending order\n",
    "r_ord_lcc"
   ]
  },
  {
   "cell_type": "code",
   "execution_count": 10,
   "id": "55342732",
   "metadata": {},
   "outputs": [
    {
     "name": "stdout",
     "output_type": "stream",
     "text": [
      "The features of interest are, in descending order of relevance, COLUMNS: [ 3 14  4  5 10 12  2 11 13  6 15  1  9  8  7]\n"
     ]
    }
   ],
   "source": [
    "max_indices = np.argsort(r_lcc) # default is ascending max indices \n",
    "max_indices =  max_indices[::-1] # Descending\n",
    "print(\"The features of interest are, in descending order of relevance, COLUMNS:\",\n",
    "      max_indices+1)"
   ]
  },
  {
   "cell_type": "code",
   "execution_count": null,
   "id": "3af6507a",
   "metadata": {},
   "outputs": [],
   "source": []
  }
 ],
 "metadata": {
  "kernelspec": {
   "display_name": "anaconda3",
   "language": "python",
   "name": "anaconda3"
  },
  "language_info": {
   "codemirror_mode": {
    "name": "ipython",
    "version": 3
   },
   "file_extension": ".py",
   "mimetype": "text/x-python",
   "name": "python",
   "nbconvert_exporter": "python",
   "pygments_lexer": "ipython3",
   "version": "3.9.7"
  }
 },
 "nbformat": 4,
 "nbformat_minor": 5
}
